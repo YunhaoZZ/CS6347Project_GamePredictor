{
  "nbformat": 4,
  "nbformat_minor": 0,
  "metadata": {
    "colab": {
      "provenance": [],
      "machine_shape": "hm",
      "gpuType": "A100",
      "authorship_tag": "ABX9TyNispDLf3HkDLyOhQBfOxQv",
      "include_colab_link": true
    },
    "kernelspec": {
      "name": "python3",
      "display_name": "Python 3"
    },
    "language_info": {
      "name": "python"
    },
    "accelerator": "GPU",
    "gpuClass": "standard"
  },
  "cells": [
    {
      "cell_type": "markdown",
      "metadata": {
        "id": "view-in-github",
        "colab_type": "text"
      },
      "source": [
        "<a href=\"https://colab.research.google.com/github/YunhaoZZ/CS6347Project_GamePredictor/blob/main/Steam.ipynb\" target=\"_parent\"><img src=\"https://colab.research.google.com/assets/colab-badge.svg\" alt=\"Open In Colab\"/></a>"
      ]
    },
    {
      "cell_type": "code",
      "source": [
        "!unzip /content/steam_games.csv.zip"
      ],
      "metadata": {
        "colab": {
          "base_uri": "https://localhost:8080/"
        },
        "id": "vSk4UpLgt5st",
        "outputId": "6d670208-803b-45cf-d2e7-69fa3e9a8fed"
      },
      "execution_count": 76,
      "outputs": [
        {
          "output_type": "stream",
          "name": "stdout",
          "text": [
            "Archive:  /content/steam_games.csv.zip\n",
            "replace steam_games.csv? [y]es, [n]o, [A]ll, [N]one, [r]ename: y\n",
            "  inflating: steam_games.csv         \n"
          ]
        }
      ]
    },
    {
      "cell_type": "markdown",
      "source": [
        "# Data Preprocess"
      ],
      "metadata": {
        "id": "JVZqSxaiw3ya"
      }
    },
    {
      "cell_type": "code",
      "execution_count": 77,
      "metadata": {
        "id": "D-zm0gwNOlCl"
      },
      "outputs": [],
      "source": [
        "import pandas\n",
        "import numpy as np\n",
        "from collections import Counter"
      ]
    },
    {
      "cell_type": "code",
      "source": [
        "def preprocess(path):\n",
        "  fields = ['App ID', 'Tags', 'Positive Reviews','Negative Reviews']\n",
        "  df = pandas.read_csv(path, usecols=fields, delimiter=';')\n",
        "  return df"
      ],
      "metadata": {
        "id": "nwZ8YXHQPlUK"
      },
      "execution_count": 78,
      "outputs": []
    },
    {
      "cell_type": "code",
      "source": [
        "def getDataset(path): \n",
        "  #path=\"steam_games.csv\"\n",
        "  num=500\n",
        "  df=preprocess(path)\n",
        "  df = df.dropna()\n",
        "  df = df.reset_index(drop=True)\n",
        "  # print(df['Tags'].head())\n",
        "\n",
        "  # record tags into a dictionary\n",
        "  tags = {}\n",
        "  gTag = []\n",
        "  for row in df['Tags']:\n",
        "    tag_pairs = row.split(',')\n",
        "    temp = []\n",
        "    for tag_pair in tag_pairs:\n",
        "      tag_items = tag_pair.split(':')\n",
        "      if tag_items[0] not in tags.keys():\n",
        "        tags[tag_items[0]] = 1\n",
        "      else:\n",
        "        tags[tag_items[0]] += 1\n",
        "      temp.append(tag_items[0])\n",
        "    gTag.append(temp)\n",
        "\n",
        "  tag_counter = Counter(tags)\n",
        "  tags = tag_counter.most_common(num)\n",
        "\n",
        "  tag_id = {}\n",
        "  for idx, tag in enumerate(tags):\n",
        "    tag_id[idx] = tag[0]\n",
        "\n",
        "  df = df.drop(columns=['Tags'])\n",
        "  df['Tags'] = gTag\n",
        "\n",
        "  rm = []\n",
        "  y = []\n",
        "  for idx, row in enumerate(df['Tags']):\n",
        "    # temp = np.zeros(500)\n",
        "    temp = [0 for _ in range(num)]\n",
        "    for tag in row:\n",
        "      if tag in tag_id.values():\n",
        "        temp[list(tag_id.keys())[list(tag_id.values()).index(tag)]] = 1\n",
        "    y.append(temp)\n",
        "    if 1 not in temp:\n",
        "      rm.append(idx)\n",
        "\n",
        "  # y = np.array(y)\n",
        "  df['y'] = y\n",
        "\n",
        "  df = df.drop(rm)\n",
        "  df = df.reset_index(drop=True)\n",
        "\n",
        "  rm = []\n",
        "  x = []\n",
        "  for idx, row in df.iterrows():\n",
        "    pr = row['Positive Reviews']\n",
        "    nr = row['Negative Reviews']\n",
        "    total = pr + nr\n",
        "    if total == 0:\n",
        "      rm.append(idx)\n",
        "      total = 1\n",
        "    rating = (pr - nr)/total * np.log(total)\n",
        "    x.append(rating)\n",
        "\n",
        "  df['x'] = x\n",
        "\n",
        "  df = df.drop(rm)\n",
        "  df = df.reset_index(drop=True)\n",
        " \n",
        "  x = np.array(x)\n",
        "  y = np.array(y)\n",
        "  return (df,x,y)"
      ],
      "metadata": {
        "id": "20xZtJHAXx7v"
      },
      "execution_count": 79,
      "outputs": []
    },
    {
      "cell_type": "markdown",
      "source": [
        "# Training and Testing"
      ],
      "metadata": {
        "id": "KMVEQKQLw-sl"
      }
    },
    {
      "cell_type": "code",
      "source": [
        "!pip install tensorflow_probability"
      ],
      "metadata": {
        "colab": {
          "base_uri": "https://localhost:8080/"
        },
        "id": "JKY3vWMGdKYN",
        "outputId": "44d7615c-9aa0-4d0f-c9ad-bf7c365f5213"
      },
      "execution_count": 80,
      "outputs": [
        {
          "output_type": "stream",
          "name": "stdout",
          "text": [
            "Looking in indexes: https://pypi.org/simple, https://us-python.pkg.dev/colab-wheels/public/simple/\n",
            "Requirement already satisfied: tensorflow_probability in /usr/local/lib/python3.10/dist-packages (0.19.0)\n",
            "Requirement already satisfied: absl-py in /usr/local/lib/python3.10/dist-packages (from tensorflow_probability) (1.4.0)\n",
            "Requirement already satisfied: six>=1.10.0 in /usr/local/lib/python3.10/dist-packages (from tensorflow_probability) (1.16.0)\n",
            "Requirement already satisfied: numpy>=1.13.3 in /usr/local/lib/python3.10/dist-packages (from tensorflow_probability) (1.22.4)\n",
            "Requirement already satisfied: decorator in /usr/local/lib/python3.10/dist-packages (from tensorflow_probability) (4.4.2)\n",
            "Requirement already satisfied: cloudpickle>=1.3 in /usr/local/lib/python3.10/dist-packages (from tensorflow_probability) (2.2.1)\n",
            "Requirement already satisfied: gast>=0.3.2 in /usr/local/lib/python3.10/dist-packages (from tensorflow_probability) (0.4.0)\n",
            "Requirement already satisfied: dm-tree in /usr/local/lib/python3.10/dist-packages (from tensorflow_probability) (0.1.8)\n"
          ]
        }
      ]
    },
    {
      "cell_type": "code",
      "source": [
        "from keras.models import Model\n",
        "import tensorflow as tf\n",
        "import numpy as np\n",
        "from tensorflow import keras\n",
        "from sklearn.model_selection import train_test_split\n",
        "from keras.layers import *\n",
        "import os.path\n",
        "from sklearn.naive_bayes import MultinomialNB\n",
        "from sklearn import metrics\n",
        "import tensorflow_probability as tfp\n",
        "import math"
      ],
      "metadata": {
        "id": "gaAgJRvvvbD6"
      },
      "execution_count": 81,
      "outputs": []
    },
    {
      "cell_type": "code",
      "source": [
        "path=\"/content/steam_games.csv\"\n",
        "df,x,y=getDataset(path)"
      ],
      "metadata": {
        "id": "wiA7LnsPzR0g"
      },
      "execution_count": 82,
      "outputs": []
    },
    {
      "cell_type": "code",
      "source": [
        "df.shape"
      ],
      "metadata": {
        "colab": {
          "base_uri": "https://localhost:8080/"
        },
        "id": "EOcwsz5ra4m4",
        "outputId": "ca9a8391-fdf7-4ef7-a6a1-ab12ca20f17f"
      },
      "execution_count": 83,
      "outputs": [
        {
          "output_type": "execute_result",
          "data": {
            "text/plain": [
              "(55497, 6)"
            ]
          },
          "metadata": {},
          "execution_count": 83
        }
      ]
    },
    {
      "cell_type": "code",
      "source": [
        "x = df['x']\n",
        "x = np.asarray(x).astype('float32')"
      ],
      "metadata": {
        "id": "qlpC9NSEbhjt"
      },
      "execution_count": 84,
      "outputs": []
    },
    {
      "cell_type": "code",
      "source": [
        "y = []\n",
        "for idx, row in enumerate(df['y']):\n",
        "    # temp = np.zeros(500)\n",
        "    temp = []\n",
        "    for tag in row:\n",
        "        temp.append(tag)\n",
        "    y.append(temp)\n",
        "\n",
        "y = np.array(y).astype('int')"
      ],
      "metadata": {
        "id": "2CH1y-TmbqK7"
      },
      "execution_count": 85,
      "outputs": []
    },
    {
      "cell_type": "code",
      "source": [
        "y_train, y_test, x_train, x_test = train_test_split(y, x, test_size=0.2, random_state=42)\n",
        "print(y_train)"
      ],
      "metadata": {
        "colab": {
          "base_uri": "https://localhost:8080/"
        },
        "id": "RXh1qfUccMC9",
        "outputId": "194158ba-d200-44b5-9bf7-e0c5823429cf"
      },
      "execution_count": 86,
      "outputs": [
        {
          "output_type": "stream",
          "name": "stdout",
          "text": [
            "[[1 1 0 ... 0 0 0]\n",
            " [0 1 0 ... 0 0 0]\n",
            " [0 1 0 ... 0 0 0]\n",
            " ...\n",
            " [0 0 0 ... 0 0 0]\n",
            " [1 0 0 ... 0 0 0]\n",
            " [1 0 0 ... 0 0 0]]\n"
          ]
        }
      ]
    },
    {
      "cell_type": "code",
      "source": [
        "def customLoss(x, pair):\n",
        "    tfd = tfp.distributions\n",
        "    dist = tfd.Normal(loc=pair[0], scale=pair[1])\n",
        "    loss = tf.reduce_mean(-dist.log_prob(x))\n",
        "    return loss"
      ],
      "metadata": {
        "id": "QTosy98mbpQu"
      },
      "execution_count": 87,
      "outputs": []
    },
    {
      "cell_type": "code",
      "source": [
        "num=500\n",
        "if os.path.isfile(\"./Test_Model/saved_model.pb\"):\n",
        "    model=tf.keras.models.load_model(\"Test_Model\")\n",
        "else:\n",
        "    model = keras.Sequential(\n",
        "    [\n",
        "        keras.layers.Dense(num, activation='relu', input_shape=(num,)),\n",
        "        keras.layers.Dense(num/2, activation='relu'),\n",
        "        #keras.layers.Dense(1, activation='linear')\n",
        "        keras.layers.Dense(1,activation=lambda x: tf.nn.elu(x) + 1)\n",
        "    ])\n",
        "    #mu = tf.layers.dense(inputs=layer, units=1)\n",
        "    #sigma = tf.layers.dense(inputs=layer, units=1,activation=lambda x: tf.nn.elu(x) + 1)\n",
        "\n",
        "    inp = Input((num,))\n",
        "    x = Dense(num, activation='relu')(inp)\n",
        "    x = Dense(num/2, activation='relu')(x)\n",
        "    x = Dense(num/2, activation='relu')(x)\n",
        "    x = Dense(num/2, activation='relu')(x)\n",
        "    x = Dense(num/2, activation='relu')(x)\n",
        "    mu = Dense(1, activation='linear')(x)\n",
        "    sigma = Dense(1,activation=lambda x: tf.nn.elu(x) + 1)(x)\n",
        "\n",
        "    model = Model(inp, [mu, sigma])\n",
        "\n",
        "\n",
        "    # compile the model\n",
        "    model.compile(optimizer='adam', loss=customLoss)\n",
        "\n",
        "    # train the model\n",
        "    model.fit(y_train, x_train, epochs=10, batch_size=32, validation_data=(y_test, x_test))\n",
        "\n",
        "    model.save(\"Test_Model\")\n"
      ],
      "metadata": {
        "id": "_uypzPsdvzP4",
        "colab": {
          "base_uri": "https://localhost:8080/"
        },
        "outputId": "f755a921-ea1b-424c-c2cd-1139c9b6b06f"
      },
      "execution_count": 88,
      "outputs": [
        {
          "output_type": "stream",
          "name": "stdout",
          "text": [
            "Epoch 1/10\n",
            "1388/1388 [==============================] - 9s 5ms/step - loss: nan - dense_58_loss: nan - dense_59_loss: 2.1971 - val_loss: nan - val_dense_58_loss: nan - val_dense_59_loss: 2.1719\n",
            "Epoch 2/10\n",
            "1388/1388 [==============================] - 7s 5ms/step - loss: nan - dense_58_loss: nan - dense_59_loss: 2.1722 - val_loss: nan - val_dense_58_loss: nan - val_dense_59_loss: 2.1820\n",
            "Epoch 3/10\n",
            "1388/1388 [==============================] - 6s 5ms/step - loss: nan - dense_58_loss: nan - dense_59_loss: 2.1693 - val_loss: nan - val_dense_58_loss: nan - val_dense_59_loss: 2.1675\n",
            "Epoch 4/10\n",
            "1388/1388 [==============================] - 6s 4ms/step - loss: nan - dense_58_loss: nan - dense_59_loss: 2.1683 - val_loss: nan - val_dense_58_loss: nan - val_dense_59_loss: 2.1681\n",
            "Epoch 5/10\n",
            "1388/1388 [==============================] - 6s 5ms/step - loss: nan - dense_58_loss: nan - dense_59_loss: 2.1673 - val_loss: nan - val_dense_58_loss: nan - val_dense_59_loss: 2.1691\n",
            "Epoch 6/10\n",
            "1388/1388 [==============================] - 6s 4ms/step - loss: nan - dense_58_loss: nan - dense_59_loss: 2.1669 - val_loss: nan - val_dense_58_loss: nan - val_dense_59_loss: 2.1698\n",
            "Epoch 7/10\n",
            "1388/1388 [==============================] - 6s 5ms/step - loss: nan - dense_58_loss: nan - dense_59_loss: 2.1665 - val_loss: nan - val_dense_58_loss: nan - val_dense_59_loss: 2.1681\n",
            "Epoch 8/10\n",
            "1388/1388 [==============================] - 6s 4ms/step - loss: nan - dense_58_loss: nan - dense_59_loss: 2.1656 - val_loss: nan - val_dense_58_loss: nan - val_dense_59_loss: 2.1672\n",
            "Epoch 9/10\n",
            "1388/1388 [==============================] - 6s 5ms/step - loss: nan - dense_58_loss: nan - dense_59_loss: 2.1658 - val_loss: nan - val_dense_58_loss: nan - val_dense_59_loss: 2.1672\n",
            "Epoch 10/10\n",
            "1388/1388 [==============================] - 6s 5ms/step - loss: nan - dense_58_loss: nan - dense_59_loss: 2.1657 - val_loss: nan - val_dense_58_loss: nan - val_dense_59_loss: 2.1681\n"
          ]
        }
      ]
    },
    {
      "cell_type": "code",
      "source": [
        "results = model.evaluate(y_test, x_test)\n",
        "\n",
        "predictresutl,predictresut2 = model.predict(y_test)\n",
        "\n",
        "print('Test loss:', results)\n",
        "print('Test predict:', np.any(predictresutl < 0))\n",
        "print('Test predict:', np.asarray(predictresutl))\n",
        "print('Test predict:', np.asarray(predictresut2))\n",
        "\n",
        "#accuracy = metrics.accuracy_score(x_test,predictresutl)\n",
        "accuracy = metrics.mean_squared_error(x_test,predictresutl)\n",
        "print(accuracy)"
      ],
      "metadata": {
        "id": "APRUeBf7v0yd",
        "colab": {
          "base_uri": "https://localhost:8080/"
        },
        "outputId": "b891fab6-1555-4951-cbf3-5f2c89ee75b9"
      },
      "execution_count": 93,
      "outputs": [
        {
          "output_type": "stream",
          "name": "stdout",
          "text": [
            "347/347 [==============================] - 1s 2ms/step - loss: nan - dense_58_loss: nan - dense_59_loss: 2.1681\n",
            "347/347 [==============================] - 1s 1ms/step\n",
            "Test loss: [nan, nan, 2.1680994033813477]\n",
            "Test predict: True\n",
            "Test predict: [[-3.942963 ]\n",
            " [-4.0397224]\n",
            " [-3.96673  ]\n",
            " ...\n",
            " [-3.4890628]\n",
            " [-3.64805  ]\n",
            " [-3.3119586]]\n",
            "Test predict: [[2.0749793]\n",
            " [2.1039186]\n",
            " [2.086    ]\n",
            " ...\n",
            " [1.9659655]\n",
            " [2.0077672]\n",
            " [1.9191288]]\n",
            "37.689594\n"
          ]
        }
      ]
    },
    {
      "cell_type": "code",
      "source": [
        "mnb = MultinomialNB(fit_prior=True)\n",
        "\n",
        "mnb.fit(y_train, x_train.astype('int'))\n",
        "\n",
        "predictY = mnb.predict(y_test)\n",
        "print(\"bayes: \")\n",
        "accuracy = metrics.accuracy_score(x_test.astype('int'),predictY)\n",
        "print(accuracy)"
      ],
      "metadata": {
        "colab": {
          "base_uri": "https://localhost:8080/"
        },
        "id": "NTbK0t5Zv6Ll",
        "outputId": "2232ff06-e3c4-496d-81e4-e6a011527dbe"
      },
      "execution_count": 92,
      "outputs": [
        {
          "output_type": "stream",
          "name": "stdout",
          "text": [
            "bayes: \n",
            "0.31126126126126125\n"
          ]
        }
      ]
    },
    {
      "cell_type": "code",
      "source": [],
      "metadata": {
        "id": "QIIKOZ3sPr4I"
      },
      "execution_count": 94,
      "outputs": []
    },
    {
      "cell_type": "code",
      "source": [
        "import scipy.stats\n",
        "n_mu=0\n",
        "n_sigma=1\n",
        "pred=1\n",
        "1-scipy.stats.norm(0,1).cdf(pred)"
      ],
      "metadata": {
        "colab": {
          "base_uri": "https://localhost:8080/"
        },
        "id": "y-SUGnUkrcpD",
        "outputId": "9dd4a437-c939-486f-b2d7-89f4a3cd6961"
      },
      "execution_count": 103,
      "outputs": [
        {
          "output_type": "execute_result",
          "data": {
            "text/plain": [
              "0.15865525393145707"
            ]
          },
          "metadata": {},
          "execution_count": 103
        }
      ]
    },
    {
      "cell_type": "code",
      "source": [],
      "metadata": {
        "id": "aSFopaXRroI0"
      },
      "execution_count": null,
      "outputs": []
    }
  ]
}